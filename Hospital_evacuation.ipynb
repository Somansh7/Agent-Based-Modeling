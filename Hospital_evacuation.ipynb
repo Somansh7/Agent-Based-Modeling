{
 "cells": [
  {
   "cell_type": "code",
   "metadata": {
    "ExecuteTime": {
     "end_time": "2024-12-10T15:22:23.608477400Z",
     "start_time": "2024-12-10T15:22:23.565241500Z"
    }
   },
   "source": [
    "# import libraries\n",
    "import matplotlib.pyplot as plt\n",
    "import matplotlib.colors as mcolors\n",
    "from matplotlib.animation import FuncAnimation\n",
    "import mesa\n",
    "from mesa import Agent, Model\n",
    "from mesa.space import MultiGrid\n",
    "from mesa.datacollection import DataCollector\n",
    "import numpy as np\n",
    "import math\n",
    "from IPython.display import HTML\n",
    "from matplotlib import rc\n",
    "import pandas as pd\n",
    "import numpy.lib.recfunctions as rf\n",
    "import time\n"
   ],
   "outputs": [],
   "execution_count": 172
  },
  {
   "cell_type": "markdown",
   "metadata": {},
   "source": [
    "This code runs with mesa version 3.00 or higher"
   ]
  },
  {
   "cell_type": "code",
   "metadata": {
    "ExecuteTime": {
     "end_time": "2024-12-10T15:22:24.286538Z",
     "start_time": "2024-12-10T15:22:24.276528200Z"
    }
   },
   "source": [
    "# check mesa version\n",
    "print(\"Mesa version: \", mesa.__version__)"
   ],
   "outputs": [
    {
     "name": "stdout",
     "output_type": "stream",
     "text": [
      "Mesa version:  3.1.0\n"
     ]
    }
   ],
   "execution_count": 173
  },
  {
   "cell_type": "code",
   "metadata": {
    "ExecuteTime": {
     "end_time": "2024-12-10T15:22:24.836674100Z",
     "start_time": "2024-12-10T15:22:24.776452800Z"
    }
   },
   "source": [
    "# Function to calculate Euclidean distance (distance between two points)\n",
    "def euclidean_distance(pos1, pos2):\n",
    "    # Use the formula to calculate distance between two coordinates\n",
    "    return math.sqrt((pos1[0] - pos2[0]) ** 2 + (pos1[1] - pos2[1]) ** 2)\n",
    "\n",
    "# Function to calculate integer grid points between two coordinates\n",
    "def connect2(ends):\n",
    "    d0, d1 = np.diff(ends, axis=0)[0]\n",
    "    if np.abs(d0) > np.abs(d1): \n",
    "        return np.c_[np.arange(ends[0, 0], ends[1,0] + np.sign(d0), np.sign(d0), dtype=np.int32),\n",
    "                     np.arange(ends[0, 1] * np.abs(d0) + np.abs(d0)//2,\n",
    "                               ends[0, 1] * np.abs(d0) + np.abs(d0)//2 + (np.abs(d0)+1) * d1, d1, dtype=np.int32) // np.abs(d0)]\n",
    "    else:\n",
    "        return np.c_[np.arange(ends[0, 0] * np.abs(d1) + np.abs(d1)//2,\n",
    "                               ends[0, 0] * np.abs(d1) + np.abs(d1)//2 + (np.abs(d1)+1) * d0, d0, dtype=np.int32) // np.abs(d1),\n",
    "                     np.arange(ends[0, 1], ends[1,1] + np.sign(d1), np.sign(d1), dtype=np.int32)]\n",
    "\n",
    "# Transforms the raw model grid data into usable arrays for the unblocked vision function\n",
    "def prep_vision(vision_area, obstacles):\n",
    "    # Find all obstacles within the vision range\n",
    "    vision_array = np.asarray(vision_area)\n",
    "    obstacles = np.asarray(obstacles)\n",
    "    nrows, ncols = vision_array.shape\n",
    "    dtype={'names':['f{}'.format(i) for i in range(ncols)], 'formats':ncols * [vision_array.dtype]}\n",
    "    obstacles_in_sight = np.intersect1d(vision_array.view(dtype), obstacles.view(dtype))\n",
    "    obstacles_in_sight = rf.structured_to_unstructured(obstacles_in_sight).tolist()\n",
    "    \n",
    "    # Trim vision_array down to only the edges (optimisation)\n",
    "    xtrim = np.array([np.min(vision_array[:, 0]), np.max(vision_array[:, 0])])\n",
    "    ytrim = np.array([np.min(vision_array[:, 1]), np.max(vision_array[:, 1])])\n",
    "    \n",
    "    xmask = np.isin(element = vision_array[:, 0], test_elements=xtrim)\n",
    "    ymask = np.isin(element = vision_array[:, 1], test_elements=ytrim)\n",
    "    \n",
    "    xarray = vision_array[xmask]\n",
    "    yarray = vision_array[ymask]\n",
    "    vision_array = np.vstack((xarray, yarray))\n",
    "    \n",
    "    return vision_array, obstacles_in_sight\n",
    "\n",
    "# Function to find all visible tiles to an agent around obstacles; call this function for enhanced vision behaviour\n",
    "def unblocked_vision(pos, vision_area, obstacles):\n",
    "    # Prepare data\n",
    "    vision_array, obstacles_in_sight = prep_vision(vision_area, obstacles)\n",
    "    x0 = pos[0]\n",
    "    y0 = pos[1]\n",
    "    vis_area = []\n",
    "    \n",
    "    # Iterate over all the tiles within the vision area\n",
    "    for tile in vision_array[:, 0:2]:\n",
    "        x1 = tile[0]\n",
    "        y1 = tile[1]\n",
    "        # Calculate simple sightline for straight lines (2D array); not covered by function\n",
    "        if x0 == x1:\n",
    "            if y0 > y1:\n",
    "                liny = np.vstack(np.arange(y1, y0 + 1)[::-1])\n",
    "            else:\n",
    "                liny = np.vstack(np.arange(y0, y1 + 1))\n",
    "            linx = (np.ones((len(liny[:, 0]), 1))*x0).astype(int)\n",
    "            visline = np.hstack((linx, liny))\n",
    "        elif y0 == y1:\n",
    "            if x0 > x1:\n",
    "                linx = np.vstack(np.arange(x1, x0 + 1)[::-1])\n",
    "            else:\n",
    "                linx = np.vstack(np.arange(x0, x1 + 1))\n",
    "            liny = (np.ones((len(linx[:, 0]), 1))*y0).astype(int)\n",
    "            visline = np.hstack((linx, liny))\n",
    "            \n",
    "        # Use function to obtain sightline for diagonals (2D array)\n",
    "        else:\n",
    "            coords = np.array([[x0, y0],\n",
    "                               [x1, y1]])\n",
    "            visline = connect2(coords)\n",
    "        \n",
    "        # Add all possible sighted tiles (not blocked by an obstacle) to new vision list of tuples\n",
    "        for loc in visline[:, 0:2]:\n",
    "            vis_area.append((int(loc[0]), int(loc[1])))\n",
    "            if [loc[0], loc[1]] in obstacles_in_sight:\n",
    "                break\n",
    "                \n",
    "    # Remove duplicates from the vision list\n",
    "    vision_area = list(set(vis_area))\n",
    "                \n",
    "    return vision_area\n",
    "\n",
    "# Tool to plot the vision area of a single agent; only use for development purposes\n",
    "def plot_vision(pos, vision, obstacles, vision_area):\n",
    "    viz = np.zeros((vision*2 + 1, vision*2 + 1))\n",
    "    posx = pos[0] - vision\n",
    "    posy = pos[1] - vision\n",
    "    for i in range(len(viz[0, :])):\n",
    "        for j in range(len(viz[:, 0])):\n",
    "            y = vision*2 - j\n",
    "            if (i + posx, j + posy) in vision_area:\n",
    "                viz[y, i] = 1\n",
    "            if (i + posx, j + posy) in obstacles:\n",
    "                viz[y, i] = 2\n",
    "            if (i + posx, j + posy) == pos:\n",
    "                viz[y, i] = 3\n",
    "                \n",
    "    fig, ax = plt.subplots(figsize=(4, 4))\n",
    "    cmap = mcolors.ListedColormap(['black', 'green', 'white', 'red'])\n",
    "    bounds = [0, 1, 2, 3]\n",
    "    norm = mcolors.BoundaryNorm(bounds, cmap.N, extend='max')\n",
    "    ax.imshow(viz, cmap=cmap, norm=norm)\n"
   ],
   "outputs": [],
   "execution_count": 174
  },
  {
   "cell_type": "markdown",
   "metadata": {},
   "source": [
    "# Base Model"
   ]
  },
  {
   "cell_type": "code",
   "metadata": {
    "ExecuteTime": {
     "end_time": "2024-12-10T15:22:27.965737900Z",
     "start_time": "2024-12-10T15:22:27.940309Z"
    }
   },
   "source": [
    "###################\n",
    "### AGENT CLASS ###\n",
    "###################\n",
    "\n",
    "# Define the NavigationAgent class\n",
    "class NavigationAgent(Agent):\n",
    "    def __init__(self, model, vision=5, real_vision = True): # Default vision range of 5 cells\n",
    "        super().__init__(model)  # MESA `Agent` class initialization, auto-assigns unique_id in Mesa 3.0\n",
    "        # Attributes of each agent\n",
    "        self.found_exit = False  # Track if agent has reached the exit\n",
    "        self.previous_pos = None  # Previous position of the agent\n",
    "        self.real_vision = real_vision\n",
    "        self.vision = vision  # Vision range of the agent\n",
    "\n",
    "    # Function to move the agent towards the exit\n",
    "    def move_towards_exit(self):\n",
    "        self.previous_pos = self.pos  # Store the current position before moving\n",
    "        # MESA `get_neighborhood` function retrieves nearby cells based on vision range\n",
    "        possible_steps = self.model.grid.get_neighborhood(self.pos, moore=True, include_center=False)\n",
    "        \n",
    "        min_distance = float('inf')  # Start with a very large distance\n",
    "        best_step = None  # Initialize best step as None\n",
    "        \n",
    "        # Check each possible step to find the one closest to the exit\n",
    "        for step in possible_steps:\n",
    "            # Only consider steps that don't have obstacles and have less than 8 agents\n",
    "            if step not in self.model.obstacles and len(self.model.grid.get_cell_list_contents(step)) < 8:\n",
    "                dist = []\n",
    "                for loc in self.model.exit_location:\n",
    "                    dist.append(euclidean_distance(step, loc))\n",
    "                dist = np.min(dist)  # Distance to the exit\n",
    "                if dist < min_distance:\n",
    "                    min_distance = dist\n",
    "                    best_step = step  # Update best step to be closer to the exit\n",
    "        if best_step:\n",
    "            # MESA `move_agent` function moves the agent to the new cell\n",
    "            self.model.grid.move_agent(self, best_step)\n",
    "\n",
    "    # Function to move the agent randomly if the exit is not in sight\n",
    "    def move_randomly(self):\n",
    "        self.previous_pos = self.pos\n",
    "        possible_steps = self.model.grid.get_neighborhood(self.pos, moore=True, include_center=False)\n",
    "        \n",
    "        # Filter steps to only those without obstacles and with fewer than 8 agents\n",
    "        valid_steps = [step for step in possible_steps if step not in self.model.obstacles and len(self.model.grid.get_cell_list_contents(step)) < 8]\n",
    "        \n",
    "        if valid_steps:\n",
    "            # Randomly choose a valid position and move there\n",
    "            random_step = self.random.choice(valid_steps)\n",
    "            # MESA `move_agent` function moves the agent to the chosen position\n",
    "            self.model.grid.move_agent(self, random_step)\n",
    "\n",
    "    # Define the actions the agent will take in each step\n",
    "    # TODO: Add behaviour of signs\n",
    "    def step(self):\n",
    "        # If the agent is at the exit, mark as exited\n",
    "        if self.pos in self.model.exit_location:\n",
    "            self.found_exit = True  # Set the agent's exit status to True\n",
    "            self.model.grid.remove_agent(self)  # MESA function to remove the agent from the grid\n",
    "            self.remove()  #self.remove() to remove from AgentSet\n",
    "            self.model.cumulative_exited += 1  # Count this agent in cumulative exited agents\n",
    "        else:\n",
    "            # MESA `get_neighborhood` checks the agent's vision area for the exit\n",
    "            vision_area = self.model.grid.get_neighborhood(self.pos, moore=True, radius=self.vision, include_center=False)\n",
    "            \n",
    "            # Obtain all obstacles within the vision area (2D array)\n",
    "            if self.real_vision:\n",
    "                vision_area = unblocked_vision(self.pos, vision_area, self.model.obstacles)\n",
    "\n",
    "            # Tool for visualisation of vision area \n",
    "            # ONLY USE WITH 1 AGENT AND 1 TIMESTEP\n",
    "            # ------------------------------------ START -----------------------------------\n",
    "            \n",
    "            check_vis = False\n",
    "            if check_vis:\n",
    "                plot_vision(self.pos, self.vision, self.model.obstacles, vision_area)\n",
    "            \n",
    "            # ------------------------------------ END -----------------------------------\n",
    "            \n",
    "            exits = []\n",
    "            for loc in self.model.exit_location:\n",
    "                if loc in vision_area:\n",
    "                    exits.append(loc)\n",
    "            exit_in_vision = exits\n",
    "            \n",
    "            # Move towards the exit if it's in sight, otherwise move randomly\n",
    "            if exit_in_vision:\n",
    "                self.move_towards_exit()\n",
    "            else:\n",
    "                self.move_randomly()\n",
    "\n",
    "###################\n",
    "### MODEL CLASS ###\n",
    "###################\n",
    "\n",
    "# Define the model class to handle the overall environment\n",
    "class FloorPlanModel(Model):\n",
    "    def __init__(self, width, height, num_agents, agent_vision, agent_real_vision):\n",
    "        super().__init__()  # `Model` class initialization\n",
    "        \n",
    "        # Basic model settings\n",
    "        self.num_agents = num_agents\n",
    "        self.agent_vision = agent_vision\n",
    "        self.agent_real_vision = agent_real_vision\n",
    "        self.grid = MultiGrid(width, height, False)  # MESA grid with dimensions; False means no wrapping\n",
    "        # self.exit_location = (width - 1, height - 1)  # Place exit at the bottom-right corner\n",
    "        \n",
    "        # Define obstacles and signs in the grid\n",
    "        floor0 = pd.read_csv(\"Floor0.csv\", header=None)\n",
    "        floor0 = pd.DataFrame.to_numpy(floor0)\n",
    "        floor0 = np.flipud(floor0)\n",
    "        \n",
    "        GreenTiles = []\n",
    "        BlackTiles = []\n",
    "        WhiteTiles = []\n",
    "        BlueTiles = []\n",
    "        PurpleTiles = []\n",
    "        YellowTiles = []\n",
    "        OrangeTiles = []\n",
    "        RedTiles = []\n",
    "        \n",
    "        for i in range(np.shape(floor0)[0]):\n",
    "            for j in range(np.shape(floor0)[1]):\n",
    "                if floor0[i, j] == 0:\n",
    "                    GreenTiles.append((j, i))\n",
    "                if floor0[i, j] == 1:\n",
    "                    BlackTiles.append((j, i))\n",
    "                if floor0[i, j] == 2:\n",
    "                    WhiteTiles.append((j, i))\n",
    "                if floor0[i, j] == 3:\n",
    "                    BlueTiles.append((j, i))\n",
    "                if floor0[i, j] == 4:\n",
    "                    PurpleTiles.append((j, i))\n",
    "                if floor0[i, j] == 5:\n",
    "                    YellowTiles.append((j, i))\n",
    "                if floor0[i, j] == 6:\n",
    "                    OrangeTiles.append((j, i))\n",
    "                if floor0[i, j] == 7:\n",
    "                    RedTiles.append((j, i))\n",
    "\n",
    "        self.outdoors = GreenTiles\n",
    "        self.obstacles = BlackTiles\n",
    "        self.indoors = WhiteTiles + BlueTiles\n",
    "        self.exit_location = PurpleTiles\n",
    "        self.stairs = YellowTiles\n",
    "        self.lifts = OrangeTiles\n",
    "        self.signs = RedTiles\n",
    "        \n",
    "        # Initialize cumulative exited count\n",
    "        self.cumulative_exited = 0\n",
    "\n",
    "        # Initialize DataCollector (MESA tool for tracking metrics across steps)\n",
    "        self.datacollector = DataCollector(\n",
    "            model_reporters={\n",
    "                \"Active Agents\": lambda m: len(m.agents),  # Count of agents still active\n",
    "                \"Exited Agents\": lambda m: sum(1 for agent in m.agents if agent.found_exit == True),\n",
    "                \"Cumulative Exited Agents\": lambda m: m.cumulative_exited,  # Cumulative exited count\n",
    "                \"Agents per Cell\": self.count_agents_per_cell  # Counts agents in each cell\n",
    "            },\n",
    "            agent_reporters={\n",
    "                \"Found Exit\": lambda a: a.found_exit if isinstance(a, NavigationAgent) else None  # Reports exit status per agent\n",
    "            }\n",
    "        )\n",
    "\n",
    "        self.place_agents(agent_vision)  # Place agents on the grid\n",
    "        self.datacollector.collect(self) # Collect data at the start of the simulation\n",
    "\n",
    "    # Function to randomly place agents in the grid\n",
    "    # TODO: Change spawn rules to for every tile type\n",
    "    def place_agents(self, agent_vision):\n",
    "        for i in range(self.num_agents):\n",
    "            agent = NavigationAgent(self, vision=agent_vision, real_vision=self.agent_real_vision)\n",
    "            placed = False  # Track if the agent is successfully placed\n",
    "            while not placed:\n",
    "                x = self.random.randrange(self.grid.width)\n",
    "                y = self.random.randrange(self.grid.height)\n",
    "                cell_contents = self.grid.get_cell_list_contents((x, y))\n",
    "\n",
    "                # Only place agent if cell has no obstacles and fewer than 8 agents\n",
    "                if (x, y) not in self.obstacles and len(cell_contents) < 8 and (x, y) not in self.outdoors:\n",
    "                    self.grid.place_agent(agent, (x, y))  # MESA function to place agent in grid\n",
    "                    placed = True  # Mark as placed\n",
    "                    # if you want to see the initial placement of the agents, uncomment the line below. This will print the initial position of the agents\n",
    "                    # print(f\"Agent {i} placed at: ({x}, {y})\")\n",
    "\n",
    "    # Function to count agents in each cell\n",
    "    def count_agents_per_cell(self):\n",
    "        agent_counts = {}  # Dictionary to store agent counts by cell position\n",
    "        # MESA `coord_iter` function iterates over grid cells and their contents\n",
    "        for cell in self.grid.coord_iter():\n",
    "            cell_contents, (x, y) = cell  # Unpack cell contents and coordinates\n",
    "            # Count NavigationAgents in each cell\n",
    "            nav_agent_count = sum(1 for obj in cell_contents if isinstance(obj, NavigationAgent))\n",
    "            if nav_agent_count > 0:\n",
    "                agent_counts[(x, y)] = nav_agent_count\n",
    "        return agent_counts\n",
    "    \n",
    "    # Function to get the grid data for visualization\n",
    "    def get_grid(self):\n",
    "        # 0: outdoors, 1: obstacle, 2/3: indoors, 4: exit, 7: sign, 8: agent\n",
    "        grid_data = np.zeros((self.grid.width, self.grid.height))\n",
    "        \n",
    "        # Mark obstacles on the grid\n",
    "        for x, y in self.obstacles:\n",
    "            grid_data[y, x] = 1\n",
    "\n",
    "        for x, y in self.indoors:\n",
    "            grid_data[y, x] = 2\n",
    "\n",
    "        # Mark special areas on the grid\n",
    "        for x, y in self.stairs:\n",
    "            grid_data[y, x] = 5\n",
    "\n",
    "        for x, y in self.lifts:\n",
    "            grid_data[y, x] = 6\n",
    "\n",
    "        # Mark agents on the grid\n",
    "        for agent in self.agents:\n",
    "            if isinstance(agent, NavigationAgent):\n",
    "                x, y = agent.pos\n",
    "                grid_data[y, x] = 8\n",
    "        \n",
    "        # Mark signs and exit\n",
    "        for x, y in self.exit_location:\n",
    "            grid_data[y, x] = 4\n",
    "\n",
    "        for x, y in self.signs:\n",
    "            grid_data[y, x] = 7\n",
    "\n",
    "        return grid_data\n",
    "\n",
    "    # Model step function to update the simulation\n",
    "    def step(self):\n",
    "        self.agents.do(\"step\")  # MESA 3.0 function to execute the `step` function of each agent\n",
    "        self.datacollector.collect(self)  # MESA DataCollector collects metrics at each step\n",
    "\n",
    "    "
   ],
   "outputs": [],
   "execution_count": 175
  },
  {
   "cell_type": "code",
   "metadata": {
    "ExecuteTime": {
     "end_time": "2024-12-10T15:25:15.782643600Z",
     "start_time": "2024-12-10T15:24:04.031102800Z"
    }
   },
   "source": [
    "# Run the model and see the results\n",
    "model = FloorPlanModel(127, 127, 100, 10, True) # run the model with 30x30 grid and 100 agents and a vision of 5\n",
    "for i in range(100): # run the model for 100 steps\n",
    "    model.step() # step the model by 1\n",
    "\n",
    "# Collect the data from the model\n",
    "model_data = model.datacollector.get_model_vars_dataframe()\n",
    "agent_data = model.datacollector.get_agent_vars_dataframe()"
   ],
   "outputs": [],
   "execution_count": 177
  },
  {
   "cell_type": "code",
   "metadata": {
    "ExecuteTime": {
     "end_time": "2024-12-10T15:25:32.101102300Z",
     "start_time": "2024-12-10T15:25:31.936082500Z"
    }
   },
   "source": [
    "model_data # print the model data"
   ],
   "outputs": [
    {
     "data": {
      "text/plain": "     Active Agents  Exited Agents  Cumulative Exited Agents  \\\n0              100              0                         0   \n1              100              0                         0   \n2              100              0                         0   \n3               99              0                         1   \n4               97              0                         3   \n..             ...            ...                       ...   \n96              61              0                        39   \n97              61              0                        39   \n98              61              0                        39   \n99              61              0                        39   \n100             61              0                        39   \n\n                                       Agents per Cell  \n0    {(2, 81): 1, (11, 80): 1, (11, 81): 1, (20, 86...  \n1    {(1, 82): 1, (10, 79): 1, (10, 80): 1, (19, 85...  \n2    {(1, 83): 1, (9, 79): 2, (18, 84): 1, (19, 62)...  \n3    {(0, 84): 1, (8, 79): 2, (17, 83): 1, (19, 86)...  \n4    {(7, 78): 2, (16, 82): 1, (18, 85): 1, (20, 73...  \n..                                                 ...  \n96   {(22, 39): 1, (24, 69): 1, (26, 76): 1, (28, 4...  \n97   {(21, 38): 1, (23, 68): 1, (27, 77): 1, (29, 3...  \n98   {(20, 37): 1, (22, 69): 1, (28, 57): 1, (28, 7...  \n99   {(20, 36): 1, (23, 70): 1, (27, 58): 1, (29, 4...  \n100  {(20, 35): 1, (23, 69): 1, (26, 57): 1, (28, 7...  \n\n[101 rows x 4 columns]",
      "text/html": "<div>\n<style scoped>\n    .dataframe tbody tr th:only-of-type {\n        vertical-align: middle;\n    }\n\n    .dataframe tbody tr th {\n        vertical-align: top;\n    }\n\n    .dataframe thead th {\n        text-align: right;\n    }\n</style>\n<table border=\"1\" class=\"dataframe\">\n  <thead>\n    <tr style=\"text-align: right;\">\n      <th></th>\n      <th>Active Agents</th>\n      <th>Exited Agents</th>\n      <th>Cumulative Exited Agents</th>\n      <th>Agents per Cell</th>\n    </tr>\n  </thead>\n  <tbody>\n    <tr>\n      <th>0</th>\n      <td>100</td>\n      <td>0</td>\n      <td>0</td>\n      <td>{(2, 81): 1, (11, 80): 1, (11, 81): 1, (20, 86...</td>\n    </tr>\n    <tr>\n      <th>1</th>\n      <td>100</td>\n      <td>0</td>\n      <td>0</td>\n      <td>{(1, 82): 1, (10, 79): 1, (10, 80): 1, (19, 85...</td>\n    </tr>\n    <tr>\n      <th>2</th>\n      <td>100</td>\n      <td>0</td>\n      <td>0</td>\n      <td>{(1, 83): 1, (9, 79): 2, (18, 84): 1, (19, 62)...</td>\n    </tr>\n    <tr>\n      <th>3</th>\n      <td>99</td>\n      <td>0</td>\n      <td>1</td>\n      <td>{(0, 84): 1, (8, 79): 2, (17, 83): 1, (19, 86)...</td>\n    </tr>\n    <tr>\n      <th>4</th>\n      <td>97</td>\n      <td>0</td>\n      <td>3</td>\n      <td>{(7, 78): 2, (16, 82): 1, (18, 85): 1, (20, 73...</td>\n    </tr>\n    <tr>\n      <th>...</th>\n      <td>...</td>\n      <td>...</td>\n      <td>...</td>\n      <td>...</td>\n    </tr>\n    <tr>\n      <th>96</th>\n      <td>61</td>\n      <td>0</td>\n      <td>39</td>\n      <td>{(22, 39): 1, (24, 69): 1, (26, 76): 1, (28, 4...</td>\n    </tr>\n    <tr>\n      <th>97</th>\n      <td>61</td>\n      <td>0</td>\n      <td>39</td>\n      <td>{(21, 38): 1, (23, 68): 1, (27, 77): 1, (29, 3...</td>\n    </tr>\n    <tr>\n      <th>98</th>\n      <td>61</td>\n      <td>0</td>\n      <td>39</td>\n      <td>{(20, 37): 1, (22, 69): 1, (28, 57): 1, (28, 7...</td>\n    </tr>\n    <tr>\n      <th>99</th>\n      <td>61</td>\n      <td>0</td>\n      <td>39</td>\n      <td>{(20, 36): 1, (23, 70): 1, (27, 58): 1, (29, 4...</td>\n    </tr>\n    <tr>\n      <th>100</th>\n      <td>61</td>\n      <td>0</td>\n      <td>39</td>\n      <td>{(20, 35): 1, (23, 69): 1, (26, 57): 1, (28, 7...</td>\n    </tr>\n  </tbody>\n</table>\n<p>101 rows × 4 columns</p>\n</div>"
     },
     "execution_count": 178,
     "metadata": {},
     "output_type": "execute_result"
    }
   ],
   "execution_count": 178
  },
  {
   "cell_type": "code",
   "metadata": {
    "ExecuteTime": {
     "end_time": "2024-12-10T15:25:34.440668900Z",
     "start_time": "2024-12-10T15:25:34.390547100Z"
    }
   },
   "source": [
    "agent_data # print the agent data"
   ],
   "outputs": [
    {
     "data": {
      "text/plain": "              Found Exit\nStep AgentID            \n0    1             False\n     2             False\n     3             False\n     4             False\n     5             False\n...                  ...\n100  93            False\n     94            False\n     98            False\n     99            False\n     100           False\n\n[7293 rows x 1 columns]",
      "text/html": "<div>\n<style scoped>\n    .dataframe tbody tr th:only-of-type {\n        vertical-align: middle;\n    }\n\n    .dataframe tbody tr th {\n        vertical-align: top;\n    }\n\n    .dataframe thead th {\n        text-align: right;\n    }\n</style>\n<table border=\"1\" class=\"dataframe\">\n  <thead>\n    <tr style=\"text-align: right;\">\n      <th></th>\n      <th></th>\n      <th>Found Exit</th>\n    </tr>\n    <tr>\n      <th>Step</th>\n      <th>AgentID</th>\n      <th></th>\n    </tr>\n  </thead>\n  <tbody>\n    <tr>\n      <th rowspan=\"5\" valign=\"top\">0</th>\n      <th>1</th>\n      <td>False</td>\n    </tr>\n    <tr>\n      <th>2</th>\n      <td>False</td>\n    </tr>\n    <tr>\n      <th>3</th>\n      <td>False</td>\n    </tr>\n    <tr>\n      <th>4</th>\n      <td>False</td>\n    </tr>\n    <tr>\n      <th>5</th>\n      <td>False</td>\n    </tr>\n    <tr>\n      <th>...</th>\n      <th>...</th>\n      <td>...</td>\n    </tr>\n    <tr>\n      <th rowspan=\"5\" valign=\"top\">100</th>\n      <th>93</th>\n      <td>False</td>\n    </tr>\n    <tr>\n      <th>94</th>\n      <td>False</td>\n    </tr>\n    <tr>\n      <th>98</th>\n      <td>False</td>\n    </tr>\n    <tr>\n      <th>99</th>\n      <td>False</td>\n    </tr>\n    <tr>\n      <th>100</th>\n      <td>False</td>\n    </tr>\n  </tbody>\n</table>\n<p>7293 rows × 1 columns</p>\n</div>"
     },
     "execution_count": 179,
     "metadata": {},
     "output_type": "execute_result"
    }
   ],
   "execution_count": 179
  },
  {
   "cell_type": "markdown",
   "metadata": {},
   "source": [
    "# Visualization with User Interface\n",
    "You don't have to understand every single line in the visualisation code below. Please understand the code to extend that you can introduce changes to it when needed"
   ]
  },
  {
   "cell_type": "code",
   "metadata": {
    "ExecuteTime": {
     "end_time": "2024-12-10T15:26:01.036649200Z",
     "start_time": "2024-12-10T15:26:00.973836100Z"
    }
   },
   "source": [
    "# Visualization Function\n",
    "def plot_grid(model, ax):\n",
    "    rc(\"animation\", embed_limit=4096)  # Set a higher limit in MB to allow smoother animation playback\n",
    "    grid_data = model.get_grid()  # Retrieve the current state of the grid from the model\n",
    "    ax.clear()  # Clear any previous plots on the axes to prevent overlap in visualizations\n",
    "\n",
    "    # Define color mappings:\n",
    "    # 0 (outdoors) -> green, 1 (obstacle) -> black, 2 (indoors) -> white,\n",
    "    # 3 (door) -> white, 4 (exit) -> purple/mediumorchid, 5 (yellow) -> stairs, 6 (lifts) -> orange, 7 (signs) -> red, 8 (agent) -> blue\n",
    "    cmap = mcolors.ListedColormap(['green', 'black', 'white', 'white', 'mediumorchid', 'yellow', 'orange', 'red', 'blue'])\n",
    "    bounds = [0, 1, 2, 3, 4, 5, 6, 7, 8]  # Boundaries to separate each category\n",
    "    norm = mcolors.BoundaryNorm(bounds, cmap.N, extend='max')  # Normalizes values to assign colors to each category\n",
    "    \n",
    "    # Display the grid data with color mapping applied.\n",
    "    # Setting 'origin' to 'lower' places the (0,0) coordinate at the bottom-left.\n",
    "    ax.imshow(grid_data, cmap=cmap, norm=norm, origin='lower')\n",
    "    \n",
    "    # Customize grid display: set grid to start from -0.5 with labels at intervals of 1\n",
    "    # Set minor ticks for cell boundaries, with thicker and darker lines\n",
    "    ax.set_xticks(np.arange(-0.5, model.grid.width, 1), minor=True)\n",
    "    ax.set_yticks(np.arange(-0.5, model.grid.height, 1), minor=True)\n",
    "    ax.grid(which='minor', color='black', linestyle='-', linewidth=0.3)  # Thicker, darker lines for cell boundaries\n",
    "\n",
    "    # Set major ticks for labels at intervals of 5, with lighter and thinner lines\n",
    "    ax.set_xticks(np.arange(0, model.grid.width, 5), minor=False)\n",
    "    ax.set_yticks(np.arange(0, model.grid.height, 5), minor=False)\n",
    "    ax.grid(which='major', color='lightgray', linestyle='-', linewidth=0)  # invisible line\n",
    "\n",
    "    \n",
    "    # Label the exit point on the grid in red text for easy identification\n",
    "    #exit_x, exit_y = model.exit_location\n",
    "    #ax.text(exit_x, exit_y, 'EXIT', ha='center', va='center', fontsize=12, color='red', fontweight='bold')\n",
    "\n",
    "    # Add labels for each sign location in black text for visibility\n",
    "    #for sign_pos in model.signs:\n",
    "        #x, y = sign_pos\n",
    "        #ax.text(x, y, 'SIGN', ha='center', va='center', fontsize=10, color='black', fontweight='bold')\n",
    "\n",
    "    # Set the title to show the current step number in the model\n",
    "    ax.set_title(f\"Step {model.steps}\", fontsize=16)\n",
    "    ax.tick_params(axis='both', which='major', labelsize=7)  # Control tick label size\n",
    "    \n",
    "    # Draw movement arrows for agents to show the direction they are traveling\n",
    "    for agent in model.agents:\n",
    "        # Only draw arrow if the agent has moved and is a NavigationAgent\n",
    "        if isinstance(agent, NavigationAgent) and agent.previous_pos:\n",
    "            start_x, start_y = agent.previous_pos  # Previous position of the agent\n",
    "            end_x, end_y = agent.pos  # Current position of the agent\n",
    "            \n",
    "            # Draw an arrow from the previous position to the current position\n",
    "            ax.arrow(\n",
    "                start_x, start_y,\n",
    "                end_x - start_x, end_y - start_y,\n",
    "                head_width=0.3, head_length=0.3, fc='yellow', ec='yellow'  # Yellow arrow for movement direction\n",
    "            )\n",
    "\n",
    "# Animation Update Function\n",
    "def update(frame, model, ax):\n",
    "    # For every frame, update the model state if it's not the first frame\n",
    "    if frame > 0:\n",
    "        model.step()  # Run one step of the model simulation\n",
    "    plot_grid(model, ax)  # Redraw the grid with updated agent positions\n",
    "    \n",
    "# Run the Animation with a larger figure size\n",
    "def run_animation(model, steps):\n",
    "    fig, ax = plt.subplots(figsize=(10, 10))  # Create a 10x10 figure for the plot\n",
    "    fig.tight_layout()\n",
    "    plot_grid(model, ax)  # Plot the initial grid state\n",
    "    # Create an animation that updates the grid for each step\n",
    "    anim = FuncAnimation(fig, update, frames=steps+1, fargs=(model, ax), repeat=False)\n",
    "    plt.close(fig)  # Close the figure after animation creation to avoid duplicate displays\n",
    "    return anim\n",
    "\n",
    "# Your imports and function definitions remain the same, up until where you initialize and run the model\n",
    "import ipywidgets as widgets  # For interactive widgets (slider, button)\n",
    "from IPython.display import display, HTML  # To display widgets and HTML animations\n",
    "import time  # For tracking elapsed time\n",
    "\n",
    "# Slider to choose the number of agents\n",
    "agent_slider = widgets.IntSlider(\n",
    "    value=10,      # Default starting number of agents\n",
    "    min=10,        # Minimum number of agents allowed\n",
    "    max=500,       # Maximum number of agents allowed\n",
    "    step=10,       # Step size for slider increments\n",
    "    description='Num Agents:',  # Label for the slider\n",
    "    continuous_update=False     # Only update value when slider is released\n",
    ")\n",
    "\n",
    "# Slider to choose the number of time steps (frames) for the animation\n",
    "time_step_slider = widgets.IntSlider(\n",
    "    value=50,      # Default starting number of steps\n",
    "    min=1,         # Minimum time steps allowed\n",
    "    max=600,       # Maximum time steps allowed\n",
    "    step=1,        # Step size for slider increments\n",
    "    description='Time Steps:',  # Label for the slider\n",
    "    continuous_update=False     # Only update value when slider is released\n",
    ")\n",
    "\n",
    "# Slider to choose the vision range (vision radius) of agents\n",
    "vision_slider = widgets.IntSlider(\n",
    "    value=5,      # Default starting vision range\n",
    "    min=1,        # Minimum vision range\n",
    "    max=20,       # Maximum vision range\n",
    "    step=1,       # Step size for slider increments\n",
    "    description='Vision:',  # Label for the slider\n",
    "    continuous_update=False     # Only update value when slider is released\n",
    ")\n",
    "\n",
    "# Button to start the simulation with current slider settings\n",
    "run_button = widgets.Button(description=\"Run Simulation\")\n",
    "\n",
    "# Output widget for displaying the animation and elapsed time\n",
    "output_widget = widgets.Output()\n",
    "\n",
    "# Label to show elapsed time during the simulation\n",
    "elapsed_time_label = widgets.Label(value=\"Elapsed time: 0.0 seconds\")\n",
    "\n",
    "# Flag variable to control timing function\n",
    "stop_timer = False\n",
    "\n",
    "# Display the interface with sliders, button, label, and output area\n",
    "display(agent_slider, time_step_slider, vision_slider, run_button, elapsed_time_label, output_widget)\n",
    "\n",
    "# Define the function to initialize and run the model\n",
    "def run_model(change):\n",
    "    global stop_timer, model_data, agent_data  # Allow variables to be accessed globally\n",
    "    with output_widget:  # Use output widget to display the animation\n",
    "        output_widget.clear_output()  # Clear any previous output\n",
    "        num_agents = agent_slider.value  # Get the number of agents from the slider\n",
    "        time_steps = time_step_slider.value  # Get the number of steps from the slider\n",
    "        agent_vision = vision_slider.value  # Get the vision range from the slider\n",
    "        model = FloorPlanModel(width=127, height=127, num_agents=num_agents, agent_vision=agent_vision, agent_real_vision=True)  # Initialize the model\n",
    "\n",
    "\n",
    "        # Reset timer flag and start timing for the animation\n",
    "        stop_timer = False\n",
    "        start_time = time.time()\n",
    "\n",
    "        def update_time_label():\n",
    "            while not stop_timer:  # Keep updating time label until timer stops\n",
    "                elapsed_time = time.time() - start_time\n",
    "                elapsed_time_label.value = f\"Elapsed time: {elapsed_time:.1f} seconds\"\n",
    "                time.sleep(0.1)  # Update every 0.1 seconds for real-time effect\n",
    "\n",
    "        # Start elapsed time tracking in a separate thread\n",
    "        import threading\n",
    "        timer_thread = threading.Thread(target=update_time_label, daemon=True)\n",
    "        timer_thread.start()\n",
    "\n",
    "        # Run the animation with selected number of steps\n",
    "        anim = run_animation(model, steps=time_steps)\n",
    "\n",
    "        # Display the animation output in HTML format\n",
    "        output = HTML(anim.to_jshtml())\n",
    "        display(output)\n",
    "\n",
    "        # Stop the timer after the simulation completes\n",
    "        stop_timer = True\n",
    "        elapsed_time = time.time() - start_time\n",
    "        elapsed_time_label.value = f\"Total elapsed time: {elapsed_time:.1f} seconds\"\n",
    "\n",
    "        # Retrieve and display model and agent data after simulation completes\n",
    "        model_data = model.datacollector.get_model_vars_dataframe()  # Data for the model over time\n",
    "        agent_data = model.datacollector.get_agent_vars_dataframe()  # Data for each agent over time\n",
    "    return model, model_data, agent_data  # Return model and data for further inspection\n",
    "\n",
    "# Attach the run_model function to the run button click event\n",
    "run_button.on_click(run_model)"
   ],
   "outputs": [
    {
     "data": {
      "text/plain": "IntSlider(value=10, continuous_update=False, description='Num Agents:', max=500, min=10, step=10)",
      "application/vnd.jupyter.widget-view+json": {
       "version_major": 2,
       "version_minor": 0,
       "model_id": "3244cf38b6914e3e87d35dac19be260c"
      }
     },
     "metadata": {},
     "output_type": "display_data"
    },
    {
     "data": {
      "text/plain": "IntSlider(value=50, continuous_update=False, description='Time Steps:', max=600, min=1)",
      "application/vnd.jupyter.widget-view+json": {
       "version_major": 2,
       "version_minor": 0,
       "model_id": "7c7a2f3db2c74b2cbbc243fdd94777ea"
      }
     },
     "metadata": {},
     "output_type": "display_data"
    },
    {
     "data": {
      "text/plain": "IntSlider(value=5, continuous_update=False, description='Vision:', max=20, min=1)",
      "application/vnd.jupyter.widget-view+json": {
       "version_major": 2,
       "version_minor": 0,
       "model_id": "087983c85243455f959be678f00764be"
      }
     },
     "metadata": {},
     "output_type": "display_data"
    },
    {
     "data": {
      "text/plain": "Button(description='Run Simulation', style=ButtonStyle())",
      "application/vnd.jupyter.widget-view+json": {
       "version_major": 2,
       "version_minor": 0,
       "model_id": "e5e7f0b2d21e4130960284e5d7c6d9cb"
      }
     },
     "metadata": {},
     "output_type": "display_data"
    },
    {
     "data": {
      "text/plain": "Label(value='Elapsed time: 0.0 seconds')",
      "application/vnd.jupyter.widget-view+json": {
       "version_major": 2,
       "version_minor": 0,
       "model_id": "1e94d622382e43d0b6c5f8fcedfc30fc"
      }
     },
     "metadata": {},
     "output_type": "display_data"
    },
    {
     "data": {
      "text/plain": "Output()",
      "application/vnd.jupyter.widget-view+json": {
       "version_major": 2,
       "version_minor": 0,
       "model_id": "f7b4bbe58d394ec99fb51a317eacfb47"
      }
     },
     "metadata": {},
     "output_type": "display_data"
    }
   ],
   "execution_count": 180
  },
  {
   "cell_type": "code",
   "metadata": {
    "ExecuteTime": {
     "end_time": "2024-12-10T16:00:15.049259900Z",
     "start_time": "2024-12-10T16:00:14.842265300Z"
    }
   },
   "source": [
    "print(\"\\nModel Data:\")\n",
    "model_data"
   ],
   "outputs": [
    {
     "name": "stdout",
     "output_type": "stream",
     "text": [
      "\n",
      "Model Data:\n"
     ]
    },
    {
     "data": {
      "text/plain": "     Active Agents  Exited Agents  Cumulative Exited Agents  \\\n0              200              0                         0   \n1              198              0                         2   \n2              196              0                         4   \n3              192              0                         8   \n4              190              0                        10   \n..             ...            ...                       ...   \n196             97              0                       103   \n197             97              0                       103   \n198             97              0                       103   \n199             96              0                       104   \n200             96              0                       104   \n\n                                       Agents per Cell  \n0    {(3, 89): 1, (4, 80): 1, (6, 80): 1, (10, 82):...  \n1    {(2, 88): 1, (5, 79): 1, (6, 79): 1, (9, 81): ...  \n2    {(1, 87): 1, (6, 78): 2, (8, 80): 1, (9, 79): ...  \n3    {(1, 86): 1, (7, 79): 1, (8, 79): 1, (8, 84): ...  \n4    {(1, 85): 1, (6, 78): 1, (7, 78): 1, (7, 83): ...  \n..                                                 ...  \n196  {(20, 38): 1, (20, 41): 1, (21, 40): 1, (21, 6...  \n197  {(20, 40): 1, (20, 62): 1, (21, 39): 1, (22, 3...  \n198  {(19, 62): 1, (20, 38): 1, (20, 41): 1, (22, 4...  \n199  {(20, 39): 1, (21, 42): 1, (23, 39): 1, (23, 4...  \n200  {(20, 40): 1, (20, 43): 1, (22, 40): 1, (22, 4...  \n\n[201 rows x 4 columns]",
      "text/html": "<div>\n<style scoped>\n    .dataframe tbody tr th:only-of-type {\n        vertical-align: middle;\n    }\n\n    .dataframe tbody tr th {\n        vertical-align: top;\n    }\n\n    .dataframe thead th {\n        text-align: right;\n    }\n</style>\n<table border=\"1\" class=\"dataframe\">\n  <thead>\n    <tr style=\"text-align: right;\">\n      <th></th>\n      <th>Active Agents</th>\n      <th>Exited Agents</th>\n      <th>Cumulative Exited Agents</th>\n      <th>Agents per Cell</th>\n    </tr>\n  </thead>\n  <tbody>\n    <tr>\n      <th>0</th>\n      <td>200</td>\n      <td>0</td>\n      <td>0</td>\n      <td>{(3, 89): 1, (4, 80): 1, (6, 80): 1, (10, 82):...</td>\n    </tr>\n    <tr>\n      <th>1</th>\n      <td>198</td>\n      <td>0</td>\n      <td>2</td>\n      <td>{(2, 88): 1, (5, 79): 1, (6, 79): 1, (9, 81): ...</td>\n    </tr>\n    <tr>\n      <th>2</th>\n      <td>196</td>\n      <td>0</td>\n      <td>4</td>\n      <td>{(1, 87): 1, (6, 78): 2, (8, 80): 1, (9, 79): ...</td>\n    </tr>\n    <tr>\n      <th>3</th>\n      <td>192</td>\n      <td>0</td>\n      <td>8</td>\n      <td>{(1, 86): 1, (7, 79): 1, (8, 79): 1, (8, 84): ...</td>\n    </tr>\n    <tr>\n      <th>4</th>\n      <td>190</td>\n      <td>0</td>\n      <td>10</td>\n      <td>{(1, 85): 1, (6, 78): 1, (7, 78): 1, (7, 83): ...</td>\n    </tr>\n    <tr>\n      <th>...</th>\n      <td>...</td>\n      <td>...</td>\n      <td>...</td>\n      <td>...</td>\n    </tr>\n    <tr>\n      <th>196</th>\n      <td>97</td>\n      <td>0</td>\n      <td>103</td>\n      <td>{(20, 38): 1, (20, 41): 1, (21, 40): 1, (21, 6...</td>\n    </tr>\n    <tr>\n      <th>197</th>\n      <td>97</td>\n      <td>0</td>\n      <td>103</td>\n      <td>{(20, 40): 1, (20, 62): 1, (21, 39): 1, (22, 3...</td>\n    </tr>\n    <tr>\n      <th>198</th>\n      <td>97</td>\n      <td>0</td>\n      <td>103</td>\n      <td>{(19, 62): 1, (20, 38): 1, (20, 41): 1, (22, 4...</td>\n    </tr>\n    <tr>\n      <th>199</th>\n      <td>96</td>\n      <td>0</td>\n      <td>104</td>\n      <td>{(20, 39): 1, (21, 42): 1, (23, 39): 1, (23, 4...</td>\n    </tr>\n    <tr>\n      <th>200</th>\n      <td>96</td>\n      <td>0</td>\n      <td>104</td>\n      <td>{(20, 40): 1, (20, 43): 1, (22, 40): 1, (22, 4...</td>\n    </tr>\n  </tbody>\n</table>\n<p>201 rows × 4 columns</p>\n</div>"
     },
     "execution_count": 181,
     "metadata": {},
     "output_type": "execute_result"
    }
   ],
   "execution_count": 181
  },
  {
   "cell_type": "code",
   "metadata": {
    "ExecuteTime": {
     "end_time": "2024-12-08T18:39:45.737671300Z",
     "start_time": "2024-12-08T18:39:45.695308200Z"
    }
   },
   "source": [
    "print(\"\\nAgent Data:\")\n",
    "agent_data.head(40)\n"
   ],
   "outputs": [
    {
     "name": "stdout",
     "output_type": "stream",
     "text": [
      "\n",
      "Agent Data:\n"
     ]
    },
    {
     "data": {
      "text/plain": "              Found Exit\nStep AgentID            \n0    1             False\n     2             False\n     3             False\n     4             False\n     5             False\n     6             False\n     7             False\n     8             False\n     9             False\n     10            False\n     11            False\n     12            False\n     13            False\n     14            False\n     15            False\n     16            False\n     17            False\n     18            False\n     19            False\n     20            False\n     21            False\n     22            False\n     23            False\n     24            False\n     25            False\n     26            False\n     27            False\n     28            False\n     29            False\n     30            False\n     31            False\n     32            False\n     33            False\n     34            False\n     35            False\n     36            False\n     37            False\n     38            False\n     39            False\n     40            False",
      "text/html": "<div>\n<style scoped>\n    .dataframe tbody tr th:only-of-type {\n        vertical-align: middle;\n    }\n\n    .dataframe tbody tr th {\n        vertical-align: top;\n    }\n\n    .dataframe thead th {\n        text-align: right;\n    }\n</style>\n<table border=\"1\" class=\"dataframe\">\n  <thead>\n    <tr style=\"text-align: right;\">\n      <th></th>\n      <th></th>\n      <th>Found Exit</th>\n    </tr>\n    <tr>\n      <th>Step</th>\n      <th>AgentID</th>\n      <th></th>\n    </tr>\n  </thead>\n  <tbody>\n    <tr>\n      <th rowspan=\"40\" valign=\"top\">0</th>\n      <th>1</th>\n      <td>False</td>\n    </tr>\n    <tr>\n      <th>2</th>\n      <td>False</td>\n    </tr>\n    <tr>\n      <th>3</th>\n      <td>False</td>\n    </tr>\n    <tr>\n      <th>4</th>\n      <td>False</td>\n    </tr>\n    <tr>\n      <th>5</th>\n      <td>False</td>\n    </tr>\n    <tr>\n      <th>6</th>\n      <td>False</td>\n    </tr>\n    <tr>\n      <th>7</th>\n      <td>False</td>\n    </tr>\n    <tr>\n      <th>8</th>\n      <td>False</td>\n    </tr>\n    <tr>\n      <th>9</th>\n      <td>False</td>\n    </tr>\n    <tr>\n      <th>10</th>\n      <td>False</td>\n    </tr>\n    <tr>\n      <th>11</th>\n      <td>False</td>\n    </tr>\n    <tr>\n      <th>12</th>\n      <td>False</td>\n    </tr>\n    <tr>\n      <th>13</th>\n      <td>False</td>\n    </tr>\n    <tr>\n      <th>14</th>\n      <td>False</td>\n    </tr>\n    <tr>\n      <th>15</th>\n      <td>False</td>\n    </tr>\n    <tr>\n      <th>16</th>\n      <td>False</td>\n    </tr>\n    <tr>\n      <th>17</th>\n      <td>False</td>\n    </tr>\n    <tr>\n      <th>18</th>\n      <td>False</td>\n    </tr>\n    <tr>\n      <th>19</th>\n      <td>False</td>\n    </tr>\n    <tr>\n      <th>20</th>\n      <td>False</td>\n    </tr>\n    <tr>\n      <th>21</th>\n      <td>False</td>\n    </tr>\n    <tr>\n      <th>22</th>\n      <td>False</td>\n    </tr>\n    <tr>\n      <th>23</th>\n      <td>False</td>\n    </tr>\n    <tr>\n      <th>24</th>\n      <td>False</td>\n    </tr>\n    <tr>\n      <th>25</th>\n      <td>False</td>\n    </tr>\n    <tr>\n      <th>26</th>\n      <td>False</td>\n    </tr>\n    <tr>\n      <th>27</th>\n      <td>False</td>\n    </tr>\n    <tr>\n      <th>28</th>\n      <td>False</td>\n    </tr>\n    <tr>\n      <th>29</th>\n      <td>False</td>\n    </tr>\n    <tr>\n      <th>30</th>\n      <td>False</td>\n    </tr>\n    <tr>\n      <th>31</th>\n      <td>False</td>\n    </tr>\n    <tr>\n      <th>32</th>\n      <td>False</td>\n    </tr>\n    <tr>\n      <th>33</th>\n      <td>False</td>\n    </tr>\n    <tr>\n      <th>34</th>\n      <td>False</td>\n    </tr>\n    <tr>\n      <th>35</th>\n      <td>False</td>\n    </tr>\n    <tr>\n      <th>36</th>\n      <td>False</td>\n    </tr>\n    <tr>\n      <th>37</th>\n      <td>False</td>\n    </tr>\n    <tr>\n      <th>38</th>\n      <td>False</td>\n    </tr>\n    <tr>\n      <th>39</th>\n      <td>False</td>\n    </tr>\n    <tr>\n      <th>40</th>\n      <td>False</td>\n    </tr>\n  </tbody>\n</table>\n</div>"
     },
     "execution_count": 247,
     "metadata": {},
     "output_type": "execute_result"
    }
   ],
   "execution_count": 247
  },
  {
   "cell_type": "code",
   "metadata": {
    "ExecuteTime": {
     "end_time": "2024-12-05T23:18:32.627729Z",
     "start_time": "2024-12-05T23:18:32.625018Z"
    }
   },
   "source": [
    "#  Uncomment the code below to display the 'Agents per Cell' data for each step\n",
    "\n",
    "#print(\"Agents per Cell at each step:\")\n",
    "#for step, agents_per_cell in model_data[\"Agents per Cell\"].items():\n",
    "#    print(f\"\\nStep {step}:\")\n",
    "#    for cell, count in agents_per_cell.items():\n",
    "#        print(f\"  Cell {cell}: {count} agent(s)\")"
   ],
   "outputs": [],
   "execution_count": 202
  }
 ],
 "metadata": {
  "kernelspec": {
   "display_name": "SEN1211-2024-2025-Mesa3",
   "language": "python",
   "name": "python3"
  },
  "language_info": {
   "codemirror_mode": {
    "name": "ipython",
    "version": 3
   },
   "file_extension": ".py",
   "mimetype": "text/x-python",
   "name": "python",
   "nbconvert_exporter": "python",
   "pygments_lexer": "ipython3",
   "version": "3.12.7"
  }
 },
 "nbformat": 4,
 "nbformat_minor": 4
}
